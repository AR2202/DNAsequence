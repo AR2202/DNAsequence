{
 "cells": [
  {
   "cell_type": "code",
   "execution_count": 3,
   "metadata": {},
   "outputs": [],
   "source": [
    "def exact_matching(pattern, text):\n",
    "\n",
    "    matchpositions = []\n",
    "    for position in range(len(text) - len(pattern)+1):\n",
    "        matching = True\n",
    "        for basepos in range(len(pattern)):\n",
    "            if pattern[basepos] != text[position+basepos]:\n",
    "                matching = False\n",
    "                break\n",
    "        if matching:\n",
    "            matchpositions.append(position)\n",
    "    return matchpositions"
   ]
  },
  {
   "cell_type": "code",
   "execution_count": 6,
   "metadata": {},
   "outputs": [],
   "source": [
    "def reverse_complement(seq):\n",
    "    complements = {'A':'T','C':'G','T':'A','G':'C'}\n",
    "    reverse_compl = ''\n",
    "    for letter in seq:\n",
    "        reverse_compl= complements[letter]+reverse_compl\n",
    "    return reverse_compl\n"
   ]
  },
  {
   "cell_type": "code",
   "execution_count": 11,
   "metadata": {},
   "outputs": [
    {
     "name": "stdout",
     "output_type": "stream",
     "text": [
      "[0, 3]\n"
     ]
    }
   ],
   "source": [
    "print(exact_matching('ATTA', 'ATTATTA'))"
   ]
  },
  {
   "cell_type": "code",
   "execution_count": 13,
   "metadata": {},
   "outputs": [
    {
     "name": "stdout",
     "output_type": "stream",
     "text": [
      "GCAT\n"
     ]
    }
   ],
   "source": [
    "print(reverse_complement('ATGC'))"
   ]
  },
  {
   "cell_type": "code",
   "execution_count": 7,
   "metadata": {},
   "outputs": [],
   "source": [
    "def matching_strand_agnostic(pattern, text):\n",
    "    matching = exact_matching(pattern,text)\n",
    "    reverse_compl_matching = exact_matching(reverse_complement(pattern), text)\n",
    "    return set(matching+ reverse_compl_matching)"
   ]
  },
  {
   "cell_type": "code",
   "execution_count": 8,
   "metadata": {},
   "outputs": [
    {
     "name": "stdout",
     "output_type": "stream",
     "text": [
      "{0, 2}\n"
     ]
    }
   ],
   "source": [
    "print(matching_strand_agnostic('ATGC','GCATGC'))"
   ]
  }
 ],
 "metadata": {
  "kernelspec": {
   "display_name": "Python 3.8.5 ('test_pip')",
   "language": "python",
   "name": "python3"
  },
  "language_info": {
   "codemirror_mode": {
    "name": "ipython",
    "version": 3
   },
   "file_extension": ".py",
   "mimetype": "text/x-python",
   "name": "python",
   "nbconvert_exporter": "python",
   "pygments_lexer": "ipython3",
   "version": "3.8.5"
  },
  "orig_nbformat": 4,
  "vscode": {
   "interpreter": {
    "hash": "f13f067729b5e44752b58c8f0b5ce32a7a3f28ae537f9be840c83a360325a9e5"
   }
  }
 },
 "nbformat": 4,
 "nbformat_minor": 2
}
