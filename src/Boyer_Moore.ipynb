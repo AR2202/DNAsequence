{
 "cells": [
  {
   "cell_type": "markdown",
   "metadata": {},
   "source": [
    "Boyer-Moore"
   ]
  },
  {
   "cell_type": "code",
   "execution_count": 55,
   "metadata": {},
   "outputs": [],
   "source": [
    "def exact_matching(pattern, text):\n",
    "\n",
    "    matchpositions = []\n",
    "    for position in range(len(text) - len(pattern)+1):\n",
    "        matching = True\n",
    "        for basepos in range(len(pattern)):\n",
    "            if pattern[basepos] != text[position+basepos]:\n",
    "                matching = False\n",
    "                break\n",
    "        if matching:\n",
    "            matchpositions.append(position)\n",
    "    return matchpositions\n",
    "\n",
    "def bad_character_offset(base ,pattern):\n",
    "        reversed = pattern[::-1]\n",
    "        for index in range(len(reversed)):\n",
    "            if base == reversed[index]:\n",
    "                return index\n",
    "        return len(pattern)\n",
    "        \n",
    "def good_suffix_offset(subtext, pattern):\n",
    "    \n",
    "    matchpositions = exact_matching(subtext, pattern)\n",
    "    if len(matchpositions) < 2:\n",
    "        return len(pattern)\n",
    "    else: \n",
    "        return len(pattern) - matchpositions[-2] -1\n",
    "\n",
    "class Boyer_Moore():\n",
    "   \n",
    "\n",
    "    def bad_character_rule(self,pattern, text):\n",
    "        matches = []\n",
    "        position = 0\n",
    "        last_in_pattern = len(pattern) -1\n",
    "        current_in_pattern = last_in_pattern\n",
    "        while position < len(text) - len(pattern)+1:\n",
    "            \n",
    "            current_in_text = position + current_in_pattern\n",
    "            if pattern[current_in_pattern] != text[current_in_text]:\n",
    "                position += bad_character_offset(text[current_in_text],pattern)\n",
    "                current_in_pattern = last_in_pattern\n",
    "            elif current_in_pattern == 0:\n",
    "                matches.append(current_in_text)\n",
    "                position +=1\n",
    "                current_in_pattern = last_in_pattern\n",
    "            else: \n",
    "                current_in_pattern -= 1\n",
    "        return matches\n",
    "    def boyer_moore(self, pattern, text):\n",
    "        matches = []\n",
    "        position = 0\n",
    "        last_in_pattern = len(pattern) -1\n",
    "        current_in_pattern = last_in_pattern\n",
    "        matched = ''\n",
    "        print(len(text))\n",
    "        print(len(pattern))\n",
    "        print(position)\n",
    "        while position < len(text) - len(pattern)+1:\n",
    "            \n",
    "            current_in_text = position + current_in_pattern\n",
    "            if pattern[current_in_pattern] != text[current_in_text]:\n",
    "                good_suffix_shift = good_suffix_offset(matched, pattern)\n",
    "                \n",
    "                bad_character_shift = bad_character_offset(text[current_in_text],pattern)\n",
    "               \n",
    "                maxshift = max(good_suffix_shift,bad_character_shift)\n",
    "                \n",
    "                position += maxshift\n",
    "                current_in_pattern = last_in_pattern\n",
    "                matched = ''\n",
    "            elif current_in_pattern == 0:\n",
    "                matches.append(current_in_text)\n",
    "                position +=1\n",
    "                current_in_pattern = last_in_pattern\n",
    "                matched = ''\n",
    "            else: \n",
    "                current_in_pattern -= 1\n",
    "                matched = pattern[current_in_pattern:]\n",
    "        return matches\n",
    "\n",
    "        \n",
    "    \n",
    "\n",
    "\n",
    "\n"
   ]
  },
  {
   "cell_type": "code",
   "execution_count": 52,
   "metadata": {},
   "outputs": [],
   "source": [
    "testcase1 = Boyer_Moore()"
   ]
  },
  {
   "cell_type": "code",
   "execution_count": 29,
   "metadata": {},
   "outputs": [
    {
     "data": {
      "text/plain": [
       "[2, 6]"
      ]
     },
     "execution_count": 29,
     "metadata": {},
     "output_type": "execute_result"
    }
   ],
   "source": [
    "testcase1.bad_character_rule('AT','GCATGCAT')"
   ]
  },
  {
   "cell_type": "code",
   "execution_count": 23,
   "metadata": {},
   "outputs": [
    {
     "data": {
      "text/plain": [
       "[0, 1, 2, 3]"
      ]
     },
     "execution_count": 23,
     "metadata": {},
     "output_type": "execute_result"
    }
   ],
   "source": [
    "testcase1.bad_character_rule('A','AAAA')"
   ]
  },
  {
   "cell_type": "code",
   "execution_count": 24,
   "metadata": {},
   "outputs": [
    {
     "data": {
      "text/plain": [
       "[]"
      ]
     },
     "execution_count": 24,
     "metadata": {},
     "output_type": "execute_result"
    }
   ],
   "source": [
    "testcase1.bad_character_rule('A','GCT')"
   ]
  },
  {
   "cell_type": "code",
   "execution_count": 53,
   "metadata": {},
   "outputs": [
    {
     "name": "stdout",
     "output_type": "stream",
     "text": [
      "4\n",
      "2\n",
      "0\n",
      "0\n",
      "2\n",
      "2\n"
     ]
    },
    {
     "data": {
      "text/plain": [
       "[2]"
      ]
     },
     "execution_count": 53,
     "metadata": {},
     "output_type": "execute_result"
    }
   ],
   "source": [
    "testcase1.boyer_moore('AT', 'GCAT')"
   ]
  },
  {
   "cell_type": "code",
   "execution_count": 57,
   "metadata": {},
   "outputs": [
    {
     "name": "stdout",
     "output_type": "stream",
     "text": [
      "7\n",
      "3\n",
      "0\n",
      "0\n",
      "1\n",
      "1\n",
      "0\n",
      "1\n",
      "1\n",
      "0\n",
      "1\n",
      "1\n"
     ]
    },
    {
     "data": {
      "text/plain": [
       "[1, 4]"
      ]
     },
     "execution_count": 57,
     "metadata": {},
     "output_type": "execute_result"
    }
   ],
   "source": [
    "testcase1.boyer_moore('AAT','GAATAAT')"
   ]
  }
 ],
 "metadata": {
  "kernelspec": {
   "display_name": "Python 3.8.5 ('test_pip')",
   "language": "python",
   "name": "python3"
  },
  "language_info": {
   "codemirror_mode": {
    "name": "ipython",
    "version": 3
   },
   "file_extension": ".py",
   "mimetype": "text/x-python",
   "name": "python",
   "nbconvert_exporter": "python",
   "pygments_lexer": "ipython3",
   "version": "3.8.5"
  },
  "orig_nbformat": 4,
  "vscode": {
   "interpreter": {
    "hash": "f13f067729b5e44752b58c8f0b5ce32a7a3f28ae537f9be840c83a360325a9e5"
   }
  }
 },
 "nbformat": 4,
 "nbformat_minor": 2
}
