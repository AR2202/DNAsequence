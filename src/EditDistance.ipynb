{
 "cells": [
  {
   "cell_type": "markdown",
   "metadata": {},
   "source": [
    "Recursive slow implementation"
   ]
  },
  {
   "cell_type": "code",
   "execution_count": 1,
   "metadata": {},
   "outputs": [],
   "source": [
    "def editDistRec(a,b):\n",
    "    \"\"\"naive recursive implementation of edit distance between a and b\"\"\"\n",
    "    if len(a)== 0:\n",
    "        return len(b)\n",
    "    if len(b)== 0:\n",
    "        return len(a)\n",
    "    editDistashort = editDistRec(a[:-1],b)\n",
    "    editDistbshort = editDistRec(a, b[:-1])\n",
    "    if a[-1] == b[-1]:\n",
    "        editDistboth = editDistRec(a[:-1],b[:-1])\n",
    "    else:\n",
    "        editDistboth = editDistRec(a[:-1],b[:-1]) + 1\n",
    "    return min(editDistashort,editDistbshort, editDistboth)\n"
   ]
  },
  {
   "cell_type": "markdown",
   "metadata": {},
   "source": [
    "Edit distance with dynamic programming"
   ]
  },
  {
   "cell_type": "code",
   "execution_count": 25,
   "metadata": {},
   "outputs": [],
   "source": [
    "def editDistance(a,b):\n",
    "    \"\"\"Edit distance using dynamic programming\"\"\"\n",
    "    D = []\n",
    "    for i in range(len(a) + 1):\n",
    "        D.append([0]*(len(b) + 1))\n",
    "    for i in range(len(a) + 1):\n",
    "        D[i][0] = i\n",
    "    for j in range (len(b) + 1):\n",
    "        D[0][j] = j\n",
    "    for i in range(1,len(a) + 1):\n",
    "        for j in range(1,len(b) + 1):\n",
    "            if a[i-1] == b[j-1]:\n",
    "                delta = 0\n",
    "            else:\n",
    "                delta = 1\n",
    "            D[i][j] = min(D[i-1][j-1] + delta, D[i-1][j] + 1, D[i][j-1] +1)\n",
    "    return D[-1][-1]"
   ]
  },
  {
   "cell_type": "code",
   "execution_count": 26,
   "metadata": {},
   "outputs": [
    {
     "data": {
      "text/plain": [
       "2"
      ]
     },
     "execution_count": 26,
     "metadata": {},
     "output_type": "execute_result"
    }
   ],
   "source": [
    "editDistance('ab','abcd')"
   ]
  },
  {
   "cell_type": "markdown",
   "metadata": {},
   "source": [
    "Global alignment"
   ]
  },
  {
   "cell_type": "code",
   "execution_count": null,
   "metadata": {},
   "outputs": [],
   "source": [
    "alphabet = ['A','C','G','T']\n",
    "score = [[0, 4, 2, 4, 8],[4, 0, 4, 2, 8],[2, 4, 0, 4, 8], [8, 8, 8, 8, 8]]"
   ]
  },
  {
   "cell_type": "code",
   "execution_count": 27,
   "metadata": {},
   "outputs": [],
   "source": [
    "def globalAlignment(a,b):\n",
    "    D = []\n",
    "    for i in range(len(a) + 1):\n",
    "        D.append([0]*(len(b) + 1))\n",
    "    for i in range(len(a) + 1):\n",
    "        D[i][0] = D[i -1][0] + score[alphabet.index(a[i-1])[-1]]\n",
    "    for j in range (len(b) + 1):\n",
    "        D[0][j] = D[0][j-1] + score[-1][alphabet.index(b[j-1])]\n",
    "    for i in range(1,len(a) + 1):\n",
    "        for j in range(1,len(b) + 1):\n",
    "            distHoriz = D[i][j-1] + score[-1][alphabet.index(b[j-1])]\n",
    "            distVert = D[i-1][j] + score[alphabet.index(a[i-1])[-1]]\n",
    "            if a[i-1] == b[j-1]:\n",
    "                distDiag = D[i-1][j-1]\n",
    "            else:\n",
    "                distDiag = D[i-1][j-1] + score[-1][alphabet.index(a[i-1])][alphabet.index(b[j-1])]\n",
    "            D[i][j] = min(distDiag, distHoriz, distVert)\n",
    "    return D[-1][-1]"
   ]
  }
 ],
 "metadata": {
  "kernelspec": {
   "display_name": "Python 3.8.5 ('test_pip')",
   "language": "python",
   "name": "python3"
  },
  "language_info": {
   "codemirror_mode": {
    "name": "ipython",
    "version": 3
   },
   "file_extension": ".py",
   "mimetype": "text/x-python",
   "name": "python",
   "nbconvert_exporter": "python",
   "pygments_lexer": "ipython3",
   "version": "3.8.5"
  },
  "orig_nbformat": 4,
  "vscode": {
   "interpreter": {
    "hash": "f13f067729b5e44752b58c8f0b5ce32a7a3f28ae537f9be840c83a360325a9e5"
   }
  }
 },
 "nbformat": 4,
 "nbformat_minor": 2
}
